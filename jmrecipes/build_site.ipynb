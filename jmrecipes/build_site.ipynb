{
 "cells": [
  {
   "cell_type": "code",
   "execution_count": 1,
   "metadata": {},
   "outputs": [
    {
     "name": "stdout",
     "output_type": "stream",
     "text": [
      "Recipe: 1 Scale\n",
      "Recipe: 1 Serving\n",
      "Recipe: Normal Recipe\n",
      "Recipe: Cost Explicit\n",
      "Recipe: Description\n",
      "Recipe: Hide Cost\n",
      "Recipe: Hide Nutrition\n",
      "Recipe: Ingredient Cost Explicit\n",
      "Recipe: Ingredient Nutrition Explicit\n",
      "Recipe: Ingredients Match\n",
      "Recipe: Instruction Lists\n",
      "Recipe: No Banner\n",
      "Recipe: No Instructions\n",
      "Recipe: No Servings\n",
      "Recipe: No Subtitle\n",
      "Recipe: Notes\n",
      "Recipe: Nutrition 0\n",
      "Recipe: Recipe Child 1\n",
      "Recipe: Child 2\n",
      "Recipe: Recipe Child 3\n",
      "Recipe: Recipe Nutrition Explicit\n",
      "Recipe: Recipe Parent\n",
      "Recipe: Scale Instructions\n",
      "Recipe: Search Ingredient\n",
      "Recipe: Search Ingredient Tag\n",
      "Recipe: Search Subtitle\n",
      "Recipe: Search Title Quinoa\n",
      "Recipe: Cook Times\n",
      "Recipe: Weird Scale\n",
      "Recipe: Yields\n",
      "Collection: 2nd Collection\n",
      "Collection: JMRecipes\n",
      "Build complete\n"
     ]
    }
   ],
   "source": [
    "from src.builder import build\n",
    "build()"
   ]
  }
 ],
 "metadata": {
  "kernelspec": {
   "display_name": "venv",
   "language": "python",
   "name": "python3"
  },
  "language_info": {
   "codemirror_mode": {
    "name": "ipython",
    "version": 3
   },
   "file_extension": ".py",
   "mimetype": "text/x-python",
   "name": "python",
   "nbconvert_exporter": "python",
   "pygments_lexer": "ipython3",
   "version": "3.10.11"
  }
 },
 "nbformat": 4,
 "nbformat_minor": 2
}
