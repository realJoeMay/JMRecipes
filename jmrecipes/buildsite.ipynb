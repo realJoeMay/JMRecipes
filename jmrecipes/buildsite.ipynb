{
 "cells": [
  {
   "cell_type": "code",
   "execution_count": 2,
   "metadata": {},
   "outputs": [
    {
     "name": "stdout",
     "output_type": "stream",
     "text": [
      "Recipe: Test 1 Scale\n",
      "Recipe: Test 1 Serving\n",
      "Recipe: Test Recipe\n",
      "Recipe: Test Cost Explicit\n",
      "Recipe: Test Description\n",
      "Recipe: Test Hide Cost\n",
      "Recipe: Test Hide Nutrition\n",
      "Recipe: Test Ingredient Cost Explicit\n",
      "Recipe: Test Ingredient Explicit Nutrition\n",
      "Recipe: Test Ingredients Match\n",
      "Recipe: Test Instruction Lists\n",
      "Recipe: Test No Banner\n",
      "Recipe: Test No Instructions\n",
      "Recipe: Test No Servings\n",
      "Recipe: Test No Subtitle\n",
      "Recipe: Test Notes\n",
      "Recipe: Test Nutrition 0\n",
      "Recipe: Normal Recipe\n",
      "Recipe: Test Recipe Child 1\n",
      "Recipe: Test Recipe Child 2\n",
      "Recipe: Test Recipe Child 3\n",
      "Recipe: Test Recipe Nutrition Explicit\n",
      "Recipe: Test Recipe Parent\n",
      "Recipe: Test Scale Instructions\n",
      "Recipe: Test Search Ingredient\n",
      "Recipe: Test Search Ingredient Tag\n",
      "Recipe: Test Search Subtitle\n",
      "Recipe: Test Search Title Quinoa\n",
      "Recipe: Test Cook Times\n",
      "Recipe: Test Weird Scale\n",
      "Recipe: Normal Recipe yaml\n",
      "Recipe: Test Yields\n",
      "Collection: JMRecipes\n",
      "Collection: Test Recipes\n",
      "Build complete\n"
     ]
    }
   ],
   "source": [
    "from src.builder import build\n",
    "build()"
   ]
  }
 ],
 "metadata": {
  "kernelspec": {
   "display_name": "venv",
   "language": "python",
   "name": "python3"
  },
  "language_info": {
   "codemirror_mode": {
    "name": "ipython",
    "version": 3
   },
   "file_extension": ".py",
   "mimetype": "text/x-python",
   "name": "python",
   "nbconvert_exporter": "python",
   "pygments_lexer": "ipython3",
   "version": "3.10.11"
  }
 },
 "nbformat": 4,
 "nbformat_minor": 2
}
